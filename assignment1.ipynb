{
 "cells": [
  {
   "cell_type": "code",
   "execution_count": 14,
   "id": "05514e37",
   "metadata": {},
   "outputs": [
    {
     "name": "stdout",
     "output_type": "stream",
     "text": [
      "   Student  Subject1  Subject2  Subject3  Total_marks Grade Pass/Fail\n",
      "0   vijith        93        74        63          230     B         P\n",
      "1  kranthi        94        93        93          280     O         P\n",
      "2   balaji        95        55        51          201     C         P\n",
      "3     ajay        69        48        39          156    RA         F\n"
     ]
    }
   ],
   "source": [
    "\n",
    "import pandas as pd\n",
    "data={\n",
    "    \"Student\":[\"vijith\",\"kranthi\",\"balaji\",\"ajay\"],\n",
    "    \"Subject1\":[93,94,95,69],\n",
    "    \"Subject2\":[74,93,55,48],\n",
    "    \"Subject3\":[63,93,51,39]\n",
    "}\n",
    "columnsList=[\"Subject1\",\"Subject2\",\"Subject3\"]\n",
    "answer=pd.DataFrame(data,columns = [\"Student\",\"Subject1\",\"Subject2\",\"Subject3\"])\n",
    "answer[\"Total_marks\"]=answer[columnsList].sum(axis=1)\n",
    "columnList1=answer[\"Total_marks\"].tolist()\n",
    "fp=[]\n",
    "grade=[]\n",
    "\n",
    "for ind in answer.index:\n",
    "     if((answer[\"Total_marks\"][ind])<200):\n",
    "            fp.append(\"F\")\n",
    "     else:\n",
    "        fp.append(\"P\")\n",
    "     if((answer[\"Total_marks\"][ind])>275):\n",
    "        grade.append(\"O\")\n",
    "     elif((answer[\"Total_marks\"][ind])>250):\n",
    "        grade.append(\"A\")\n",
    "     elif((answer[\"Total_marks\"][ind])>225):\n",
    "        grade.append(\"B\")\n",
    "     elif((answer[\"Total_marks\"][ind])>200):\n",
    "        grade.append(\"C\")\n",
    "     elif((answer[\"Total_marks\"][ind])<200):\n",
    "        grade.append(\"RA\")\n",
    "    \n",
    "answer[\"Grade\"]=grade\n",
    "answer[\"Pass/Fail\"]=fp\n",
    "answer.to_csv(\"assignment1.csv\",index=True)\n",
    "\n",
    "print(answer)"
   ]
  },
  {
   "cell_type": "code",
   "execution_count": null,
   "id": "cac49787",
   "metadata": {},
   "outputs": [],
   "source": []
  },
  {
   "cell_type": "code",
   "execution_count": null,
   "id": "96ad86fd",
   "metadata": {},
   "outputs": [],
   "source": []
  },
  {
   "cell_type": "code",
   "execution_count": null,
   "id": "2c3277ca",
   "metadata": {},
   "outputs": [],
   "source": []
  },
  {
   "cell_type": "code",
   "execution_count": null,
   "id": "ef7c3e94",
   "metadata": {},
   "outputs": [],
   "source": []
  }
 ],
 "metadata": {
  "kernelspec": {
   "display_name": "Python 3 (ipykernel)",
   "language": "python",
   "name": "python3"
  },
  "language_info": {
   "codemirror_mode": {
    "name": "ipython",
    "version": 3
   },
   "file_extension": ".py",
   "mimetype": "text/x-python",
   "name": "python",
   "nbconvert_exporter": "python",
   "pygments_lexer": "ipython3",
   "version": "3.9.7"
  }
 },
 "nbformat": 4,
 "nbformat_minor": 5
}
